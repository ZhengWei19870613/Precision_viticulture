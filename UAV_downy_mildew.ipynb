import numpy as np
from matplotlib import pyplot as plt
import cv2 as cv
import pandas as pd
from sklearn.tree import DecisionTreeClassifier
from sklearn.model_selection import GridSearchCV
from sklearn.model_selection import train_test_split
import collections
import os
import csv


def show(img):
    if img.ndim == 2:
        plt.imshow(img, cmap='gray')
    else:
        plt.imshow(cv.cvtColor(img, cv.COLOR_BGR2RGB))
    plt.show()



results = []
for root, dirs, files in os.walk(os.getcwd() + "\\images"):
    for filename in files:
        print(filename, '识别中', sep='\t', end='\t')
        file = os.path.join('images', filename)
        img = cv.imread(file)
        img1 = cv.imread(file)
        img2 = cv.imread(file)
        img3 = cv.imread(file)
        
        img1[:, :] = [255, 255, 255]

        '''
        for i in range(img.shape[0]):
            for j in range(img.shape[1]):
                if (img[i, j, 0] < 100):
                    img[i, j] = [255, 255, 255]
        '''
        d1,d2,d3=img.shape
        im = img.reshape(d1*d2, d3)
        im[np.where(im[:, 0]<100)] = [255]*3
        img = im.reshape(d1, d2, d3)
        
        gray = cv.cvtColor(img, cv.COLOR_BGR2GRAY)
        thresh=254
        gray[gray>thresh]=255
        gray[gray<=thresh]=0

        contours,heridency = cv.findContours(gray,cv.RETR_EXTERNAL,cv.CHAIN_APPROX_NONE)
        contours1=cv.drawContours(img,contours,-1,(0,0,255),-1)

        area = [cv.contourArea(contours[k]) for k in range(len(contours))]
        max_idx = np.argmax(np.array(area))
        mask = cv.drawContours(img1, contours, max_idx, 0, cv.FILLED)
        mask_inv = 255-mask

        IMAGE = (mask_inv/255)*img3
        IMAGE = IMAGE.astype('uint8')
        IMAGE = cv.cvtColor(IMAGE, cv.COLOR_BGR2RGB)

        data = pd.read_csv('clas_2_background0.csv')
        y = data['Clas_2']
        x = data.drop('Clas_2', axis=1)
        x_train, x_test, y_train, y_test = train_test_split(x, y, test_size=0.3)
        clf = DecisionTreeClassifier(random_state=25)
        clf = clf.fit(x_train, y_train)
        score = clf.score(x_test, y_test)

        IMAGE1 = np.reshape(IMAGE, (-1, 3))
        IMAGE1_predict = clf.predict(IMAGE1)
        d = collections.Counter(IMAGE1_predict)
        percentage = round(d[0]/(d[0]+d[1]), 4)

        print("{:.2%}".format(percentage))
        results.append({'filename':filename, 'percentage':percentage})

print('识别完成！')
#保存文件
pd.DataFrame(results).to_csv('result.csv')
        
